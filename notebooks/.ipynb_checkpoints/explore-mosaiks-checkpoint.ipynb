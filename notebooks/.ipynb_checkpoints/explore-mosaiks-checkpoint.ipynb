{
 "cells": [
  {
   "cell_type": "markdown",
   "id": "1b4885cb",
   "metadata": {},
   "source": [
    "# Exploring MOSAIKS Features"
   ]
  },
  {
   "cell_type": "code",
   "execution_count": 1,
   "id": "3b775f2a",
   "metadata": {},
   "outputs": [],
   "source": [
    "import pandas as pd\n",
    "import pickle"
   ]
  },
  {
   "cell_type": "code",
   "execution_count": 2,
   "id": "29acb03a",
   "metadata": {},
   "outputs": [],
   "source": [
    "with open('../data/WORLD_UAR.pkl', 'br') as f:\n",
    "    data = pickle.load(f)"
   ]
  },
  {
   "cell_type": "code",
   "execution_count": 3,
   "id": "f0bc7a49",
   "metadata": {},
   "outputs": [
    {
     "data": {
      "text/plain": [
       "dict"
      ]
     },
     "execution_count": 3,
     "metadata": {},
     "output_type": "execute_result"
    }
   ],
   "source": [
    "type(data)"
   ]
  },
  {
   "cell_type": "code",
   "execution_count": 4,
   "id": "07d8baaa",
   "metadata": {},
   "outputs": [
    {
     "data": {
      "text/plain": [
       "dict_keys(['X', 'ids_X', 'latlon'])"
      ]
     },
     "execution_count": 4,
     "metadata": {},
     "output_type": "execute_result"
    }
   ],
   "source": [
    "data.keys()"
   ]
  },
  {
   "cell_type": "code",
   "execution_count": 5,
   "id": "411df796",
   "metadata": {},
   "outputs": [
    {
     "data": {
      "text/plain": [
       "(498133, 2)"
      ]
     },
     "execution_count": 5,
     "metadata": {},
     "output_type": "execute_result"
    }
   ],
   "source": [
    "data['latlon'].shape"
   ]
  },
  {
   "cell_type": "code",
   "execution_count": 6,
   "id": "aea9850b",
   "metadata": {},
   "outputs": [
    {
     "data": {
      "text/plain": [
       "array([[ -23.5339713 ,   26.22847955],\n",
       "       [  39.46111238, -107.40548179],\n",
       "       [  45.20652373,   57.89131342],\n",
       "       [  55.37729209, -105.84919635],\n",
       "       [  26.0107562 ,   -0.8343602 ],\n",
       "       [  45.92956362,   78.34338315],\n",
       "       [  28.66507596,   54.59970085],\n",
       "       [  48.95539085,  -83.79952387],\n",
       "       [  33.38339624,  133.08882233],\n",
       "       [  14.60431249,   -6.45351471]])"
      ]
     },
     "execution_count": 6,
     "metadata": {},
     "output_type": "execute_result"
    }
   ],
   "source": [
    "data['latlon'][:10]"
   ]
  },
  {
   "cell_type": "code",
   "execution_count": 8,
   "id": "2a99bc01",
   "metadata": {},
   "outputs": [
    {
     "data": {
      "text/plain": [
       "array([14.60431249, -6.45351471])"
      ]
     },
     "execution_count": 8,
     "metadata": {},
     "output_type": "execute_result"
    }
   ],
   "source": [
    "data['latlon'][9]"
   ]
  },
  {
   "cell_type": "code",
   "execution_count": 9,
   "id": "0b64ef01",
   "metadata": {
    "scrolled": true
   },
   "outputs": [
    {
     "data": {
      "text/plain": [
       "(498133, 2048)"
      ]
     },
     "execution_count": 9,
     "metadata": {},
     "output_type": "execute_result"
    }
   ],
   "source": [
    "data['X'].shape"
   ]
  },
  {
   "cell_type": "code",
   "execution_count": 10,
   "id": "37b8e133",
   "metadata": {},
   "outputs": [
    {
     "data": {
      "text/plain": [
       "dtype('float32')"
      ]
     },
     "execution_count": 10,
     "metadata": {},
     "output_type": "execute_result"
    }
   ],
   "source": [
    "data['X'].dtype"
   ]
  },
  {
   "cell_type": "code",
   "execution_count": 15,
   "id": "7d8f9530",
   "metadata": {},
   "outputs": [
    {
     "data": {
      "text/plain": [
       "'7014,5272'"
      ]
     },
     "execution_count": 15,
     "metadata": {},
     "output_type": "execute_result"
    }
   ],
   "source": [
    "data['ids_X'][1]"
   ]
  },
  {
   "cell_type": "code",
   "execution_count": 8,
   "id": "ab5dcbac",
   "metadata": {},
   "outputs": [
    {
     "data": {
      "text/plain": [
       "array(['11896,14975', '7014,5272', '6449,17274', ..., '6389,5094',\n",
       "       '11521,14088', '5029,18404'], dtype='<U32')"
      ]
     },
     "execution_count": 8,
     "metadata": {},
     "output_type": "execute_result"
    }
   ],
   "source": [
    "data['ids_X']"
   ]
  },
  {
   "cell_type": "code",
   "execution_count": 9,
   "id": "e965a853",
   "metadata": {},
   "outputs": [
    {
     "data": {
      "text/plain": [
       "(498133,)"
      ]
     },
     "execution_count": 9,
     "metadata": {},
     "output_type": "execute_result"
    }
   ],
   "source": [
    "data['ids_X'].shape"
   ]
  },
  {
   "cell_type": "code",
   "execution_count": 14,
   "id": "16312081",
   "metadata": {},
   "outputs": [
    {
     "data": {
      "text/plain": [
       "(498133,)"
      ]
     },
     "execution_count": 14,
     "metadata": {},
     "output_type": "execute_result"
    }
   ],
   "source": [
    "pd.Series(data['ids_X']).unique().shape"
   ]
  },
  {
   "cell_type": "markdown",
   "id": "cc53caa3",
   "metadata": {},
   "source": [
    "All entries in `ids_X` are unique."
   ]
  },
  {
   "cell_type": "code",
   "execution_count": 10,
   "id": "fdb72b61",
   "metadata": {},
   "outputs": [
    {
     "name": "stdout",
     "output_type": "stream",
     "text": [
      "(35235, 16)\n"
     ]
    },
    {
     "data": {
      "text/html": [
       "<div>\n",
       "<style scoped>\n",
       "    .dataframe tbody tr th:only-of-type {\n",
       "        vertical-align: middle;\n",
       "    }\n",
       "\n",
       "    .dataframe tbody tr th {\n",
       "        vertical-align: top;\n",
       "    }\n",
       "\n",
       "    .dataframe thead th {\n",
       "        text-align: right;\n",
       "    }\n",
       "</style>\n",
       "<table border=\"1\" class=\"dataframe\">\n",
       "  <thead>\n",
       "    <tr style=\"text-align: right;\">\n",
       "      <th></th>\n",
       "      <th>cluster</th>\n",
       "      <th>svyid</th>\n",
       "      <th>wealthpooled</th>\n",
       "      <th>wealthpooled5country</th>\n",
       "      <th>wealth</th>\n",
       "      <th>iso3</th>\n",
       "      <th>hv000</th>\n",
       "      <th>year</th>\n",
       "      <th>cname</th>\n",
       "      <th>country</th>\n",
       "      <th>region</th>\n",
       "      <th>iso3n</th>\n",
       "      <th>households</th>\n",
       "      <th>LATNUM</th>\n",
       "      <th>LONGNUM</th>\n",
       "      <th>URBAN_RURA</th>\n",
       "    </tr>\n",
       "  </thead>\n",
       "  <tbody>\n",
       "    <tr>\n",
       "      <th>0</th>\n",
       "      <td>1</td>\n",
       "      <td>AO2011</td>\n",
       "      <td>2.595618</td>\n",
       "      <td>2.375126</td>\n",
       "      <td>1.713497</td>\n",
       "      <td>AGO</td>\n",
       "      <td>AO5</td>\n",
       "      <td>2011</td>\n",
       "      <td>AO</td>\n",
       "      <td>Angola</td>\n",
       "      <td>Middle Africa</td>\n",
       "      <td>24</td>\n",
       "      <td>36</td>\n",
       "      <td>-12.350257</td>\n",
       "      <td>13.534922</td>\n",
       "      <td>U</td>\n",
       "    </tr>\n",
       "    <tr>\n",
       "      <th>1</th>\n",
       "      <td>2</td>\n",
       "      <td>AO2011</td>\n",
       "      <td>2.209620</td>\n",
       "      <td>1.999398</td>\n",
       "      <td>1.545335</td>\n",
       "      <td>AGO</td>\n",
       "      <td>AO5</td>\n",
       "      <td>2011</td>\n",
       "      <td>AO</td>\n",
       "      <td>Angola</td>\n",
       "      <td>Middle Africa</td>\n",
       "      <td>24</td>\n",
       "      <td>32</td>\n",
       "      <td>-12.360865</td>\n",
       "      <td>13.551494</td>\n",
       "      <td>U</td>\n",
       "    </tr>\n",
       "    <tr>\n",
       "      <th>2</th>\n",
       "      <td>3</td>\n",
       "      <td>AO2011</td>\n",
       "      <td>0.906469</td>\n",
       "      <td>0.677429</td>\n",
       "      <td>0.631730</td>\n",
       "      <td>AGO</td>\n",
       "      <td>AO5</td>\n",
       "      <td>2011</td>\n",
       "      <td>AO</td>\n",
       "      <td>Angola</td>\n",
       "      <td>Middle Africa</td>\n",
       "      <td>24</td>\n",
       "      <td>36</td>\n",
       "      <td>-12.613421</td>\n",
       "      <td>13.413085</td>\n",
       "      <td>U</td>\n",
       "    </tr>\n",
       "  </tbody>\n",
       "</table>\n",
       "</div>"
      ],
      "text/plain": [
       "   cluster   svyid  wealthpooled  wealthpooled5country    wealth iso3 hv000  \\\n",
       "0        1  AO2011      2.595618              2.375126  1.713497  AGO   AO5   \n",
       "1        2  AO2011      2.209620              1.999398  1.545335  AGO   AO5   \n",
       "2        3  AO2011      0.906469              0.677429  0.631730  AGO   AO5   \n",
       "\n",
       "   year cname country         region  iso3n  households     LATNUM    LONGNUM  \\\n",
       "0  2011    AO  Angola  Middle Africa     24          36 -12.350257  13.534922   \n",
       "1  2011    AO  Angola  Middle Africa     24          32 -12.360865  13.551494   \n",
       "2  2011    AO  Angola  Middle Africa     24          36 -12.613421  13.413085   \n",
       "\n",
       "  URBAN_RURA  \n",
       "0          U  \n",
       "1          U  \n",
       "2          U  "
      ]
     },
     "execution_count": 10,
     "metadata": {},
     "output_type": "execute_result"
    }
   ],
   "source": [
    "targets = pd.read_csv('dhs_wealth_index.csv')\n",
    "print(targets.shape)\n",
    "targets.head(3)"
   ]
  }
 ],
 "metadata": {
  "kernelspec": {
   "display_name": "Python 3 (ipykernel)",
   "language": "python",
   "name": "python3"
  },
  "language_info": {
   "codemirror_mode": {
    "name": "ipython",
    "version": 3
   },
   "file_extension": ".py",
   "mimetype": "text/x-python",
   "name": "python",
   "nbconvert_exporter": "python",
   "pygments_lexer": "ipython3",
   "version": "3.9.7"
  }
 },
 "nbformat": 4,
 "nbformat_minor": 5
}
